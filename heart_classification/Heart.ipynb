{
 "cells": [
  {
   "cell_type": "markdown",
   "id": "a01ac669-32e0-4fc7-a40d-a5491d94f130",
   "metadata": {},
   "source": [
    "# import libraries"
   ]
  },
  {
   "cell_type": "code",
   "execution_count": 2,
   "id": "320c0ce3-41c6-4342-b208-a2378606fbd4",
   "metadata": {},
   "outputs": [],
   "source": [
    "import numpy as np\n",
    "import pandas as pd\n",
    "import matplotlib.pyplot as plt\n",
    "import seaborn as sns"
   ]
  },
  {
   "cell_type": "markdown",
   "id": "d4e42ce2-d0c0-4729-ab8f-279efb4c24ca",
   "metadata": {},
   "source": [
    "# load the data"
   ]
  },
  {
   "cell_type": "code",
   "execution_count": 4,
   "id": "bf2a88fe-e616-4f29-997c-2727b99b29a4",
   "metadata": {},
   "outputs": [],
   "source": [
    "df = pd.read_csv(\"heart.csv\")"
   ]
  },
  {
   "cell_type": "markdown",
   "id": "55981988-1abc-4a49-9dc4-30bd24d7ad0a",
   "metadata": {},
   "source": [
    "# Explore the data"
   ]
  },
  {
   "cell_type": "code",
   "execution_count": 6,
   "id": "8fc4fccd-1d4d-48db-aaf4-0aacbfc00d2a",
   "metadata": {},
   "outputs": [
    {
     "data": {
      "text/plain": [
       "(918, 12)"
      ]
     },
     "execution_count": 6,
     "metadata": {},
     "output_type": "execute_result"
    }
   ],
   "source": [
    "df.shape"
   ]
  },
  {
   "cell_type": "code",
   "execution_count": 7,
   "id": "8bced771-aff7-49dc-967d-a162ee6871a2",
   "metadata": {},
   "outputs": [
    {
     "data": {
      "text/html": [
       "<div>\n",
       "<style scoped>\n",
       "    .dataframe tbody tr th:only-of-type {\n",
       "        vertical-align: middle;\n",
       "    }\n",
       "\n",
       "    .dataframe tbody tr th {\n",
       "        vertical-align: top;\n",
       "    }\n",
       "\n",
       "    .dataframe thead th {\n",
       "        text-align: right;\n",
       "    }\n",
       "</style>\n",
       "<table border=\"1\" class=\"dataframe\">\n",
       "  <thead>\n",
       "    <tr style=\"text-align: right;\">\n",
       "      <th></th>\n",
       "      <th>Age</th>\n",
       "      <th>Sex</th>\n",
       "      <th>ChestPainType</th>\n",
       "      <th>RestingBP</th>\n",
       "      <th>Cholesterol</th>\n",
       "      <th>FastingBS</th>\n",
       "      <th>RestingECG</th>\n",
       "      <th>MaxHR</th>\n",
       "      <th>ExerciseAngina</th>\n",
       "      <th>Oldpeak</th>\n",
       "      <th>ST_Slope</th>\n",
       "      <th>HeartDisease</th>\n",
       "    </tr>\n",
       "  </thead>\n",
       "  <tbody>\n",
       "    <tr>\n",
       "      <th>0</th>\n",
       "      <td>40</td>\n",
       "      <td>M</td>\n",
       "      <td>ATA</td>\n",
       "      <td>140</td>\n",
       "      <td>289</td>\n",
       "      <td>0</td>\n",
       "      <td>Normal</td>\n",
       "      <td>172</td>\n",
       "      <td>N</td>\n",
       "      <td>0.0</td>\n",
       "      <td>Up</td>\n",
       "      <td>0</td>\n",
       "    </tr>\n",
       "    <tr>\n",
       "      <th>1</th>\n",
       "      <td>49</td>\n",
       "      <td>F</td>\n",
       "      <td>NAP</td>\n",
       "      <td>160</td>\n",
       "      <td>180</td>\n",
       "      <td>0</td>\n",
       "      <td>Normal</td>\n",
       "      <td>156</td>\n",
       "      <td>N</td>\n",
       "      <td>1.0</td>\n",
       "      <td>Flat</td>\n",
       "      <td>1</td>\n",
       "    </tr>\n",
       "    <tr>\n",
       "      <th>2</th>\n",
       "      <td>37</td>\n",
       "      <td>M</td>\n",
       "      <td>ATA</td>\n",
       "      <td>130</td>\n",
       "      <td>283</td>\n",
       "      <td>0</td>\n",
       "      <td>ST</td>\n",
       "      <td>98</td>\n",
       "      <td>N</td>\n",
       "      <td>0.0</td>\n",
       "      <td>Up</td>\n",
       "      <td>0</td>\n",
       "    </tr>\n",
       "    <tr>\n",
       "      <th>3</th>\n",
       "      <td>48</td>\n",
       "      <td>F</td>\n",
       "      <td>ASY</td>\n",
       "      <td>138</td>\n",
       "      <td>214</td>\n",
       "      <td>0</td>\n",
       "      <td>Normal</td>\n",
       "      <td>108</td>\n",
       "      <td>Y</td>\n",
       "      <td>1.5</td>\n",
       "      <td>Flat</td>\n",
       "      <td>1</td>\n",
       "    </tr>\n",
       "    <tr>\n",
       "      <th>4</th>\n",
       "      <td>54</td>\n",
       "      <td>M</td>\n",
       "      <td>NAP</td>\n",
       "      <td>150</td>\n",
       "      <td>195</td>\n",
       "      <td>0</td>\n",
       "      <td>Normal</td>\n",
       "      <td>122</td>\n",
       "      <td>N</td>\n",
       "      <td>0.0</td>\n",
       "      <td>Up</td>\n",
       "      <td>0</td>\n",
       "    </tr>\n",
       "  </tbody>\n",
       "</table>\n",
       "</div>"
      ],
      "text/plain": [
       "   Age Sex ChestPainType  RestingBP  Cholesterol  FastingBS RestingECG  MaxHR  \\\n",
       "0   40   M           ATA        140          289          0     Normal    172   \n",
       "1   49   F           NAP        160          180          0     Normal    156   \n",
       "2   37   M           ATA        130          283          0         ST     98   \n",
       "3   48   F           ASY        138          214          0     Normal    108   \n",
       "4   54   M           NAP        150          195          0     Normal    122   \n",
       "\n",
       "  ExerciseAngina  Oldpeak ST_Slope  HeartDisease  \n",
       "0              N      0.0       Up             0  \n",
       "1              N      1.0     Flat             1  \n",
       "2              N      0.0       Up             0  \n",
       "3              Y      1.5     Flat             1  \n",
       "4              N      0.0       Up             0  "
      ]
     },
     "execution_count": 7,
     "metadata": {},
     "output_type": "execute_result"
    }
   ],
   "source": [
    "df.head()"
   ]
  },
  {
   "cell_type": "code",
   "execution_count": 8,
   "id": "d935f895-5024-4b55-a605-1a8a80bc7404",
   "metadata": {},
   "outputs": [
    {
     "data": {
      "text/html": [
       "<div>\n",
       "<style scoped>\n",
       "    .dataframe tbody tr th:only-of-type {\n",
       "        vertical-align: middle;\n",
       "    }\n",
       "\n",
       "    .dataframe tbody tr th {\n",
       "        vertical-align: top;\n",
       "    }\n",
       "\n",
       "    .dataframe thead th {\n",
       "        text-align: right;\n",
       "    }\n",
       "</style>\n",
       "<table border=\"1\" class=\"dataframe\">\n",
       "  <thead>\n",
       "    <tr style=\"text-align: right;\">\n",
       "      <th></th>\n",
       "      <th>Age</th>\n",
       "      <th>Sex</th>\n",
       "      <th>ChestPainType</th>\n",
       "      <th>RestingBP</th>\n",
       "      <th>Cholesterol</th>\n",
       "      <th>FastingBS</th>\n",
       "      <th>RestingECG</th>\n",
       "      <th>MaxHR</th>\n",
       "      <th>ExerciseAngina</th>\n",
       "      <th>Oldpeak</th>\n",
       "      <th>ST_Slope</th>\n",
       "      <th>HeartDisease</th>\n",
       "    </tr>\n",
       "  </thead>\n",
       "  <tbody>\n",
       "    <tr>\n",
       "      <th>913</th>\n",
       "      <td>45</td>\n",
       "      <td>M</td>\n",
       "      <td>TA</td>\n",
       "      <td>110</td>\n",
       "      <td>264</td>\n",
       "      <td>0</td>\n",
       "      <td>Normal</td>\n",
       "      <td>132</td>\n",
       "      <td>N</td>\n",
       "      <td>1.2</td>\n",
       "      <td>Flat</td>\n",
       "      <td>1</td>\n",
       "    </tr>\n",
       "    <tr>\n",
       "      <th>914</th>\n",
       "      <td>68</td>\n",
       "      <td>M</td>\n",
       "      <td>ASY</td>\n",
       "      <td>144</td>\n",
       "      <td>193</td>\n",
       "      <td>1</td>\n",
       "      <td>Normal</td>\n",
       "      <td>141</td>\n",
       "      <td>N</td>\n",
       "      <td>3.4</td>\n",
       "      <td>Flat</td>\n",
       "      <td>1</td>\n",
       "    </tr>\n",
       "    <tr>\n",
       "      <th>915</th>\n",
       "      <td>57</td>\n",
       "      <td>M</td>\n",
       "      <td>ASY</td>\n",
       "      <td>130</td>\n",
       "      <td>131</td>\n",
       "      <td>0</td>\n",
       "      <td>Normal</td>\n",
       "      <td>115</td>\n",
       "      <td>Y</td>\n",
       "      <td>1.2</td>\n",
       "      <td>Flat</td>\n",
       "      <td>1</td>\n",
       "    </tr>\n",
       "    <tr>\n",
       "      <th>916</th>\n",
       "      <td>57</td>\n",
       "      <td>F</td>\n",
       "      <td>ATA</td>\n",
       "      <td>130</td>\n",
       "      <td>236</td>\n",
       "      <td>0</td>\n",
       "      <td>LVH</td>\n",
       "      <td>174</td>\n",
       "      <td>N</td>\n",
       "      <td>0.0</td>\n",
       "      <td>Flat</td>\n",
       "      <td>1</td>\n",
       "    </tr>\n",
       "    <tr>\n",
       "      <th>917</th>\n",
       "      <td>38</td>\n",
       "      <td>M</td>\n",
       "      <td>NAP</td>\n",
       "      <td>138</td>\n",
       "      <td>175</td>\n",
       "      <td>0</td>\n",
       "      <td>Normal</td>\n",
       "      <td>173</td>\n",
       "      <td>N</td>\n",
       "      <td>0.0</td>\n",
       "      <td>Up</td>\n",
       "      <td>0</td>\n",
       "    </tr>\n",
       "  </tbody>\n",
       "</table>\n",
       "</div>"
      ],
      "text/plain": [
       "     Age Sex ChestPainType  RestingBP  Cholesterol  FastingBS RestingECG  \\\n",
       "913   45   M            TA        110          264          0     Normal   \n",
       "914   68   M           ASY        144          193          1     Normal   \n",
       "915   57   M           ASY        130          131          0     Normal   \n",
       "916   57   F           ATA        130          236          0        LVH   \n",
       "917   38   M           NAP        138          175          0     Normal   \n",
       "\n",
       "     MaxHR ExerciseAngina  Oldpeak ST_Slope  HeartDisease  \n",
       "913    132              N      1.2     Flat             1  \n",
       "914    141              N      3.4     Flat             1  \n",
       "915    115              Y      1.2     Flat             1  \n",
       "916    174              N      0.0     Flat             1  \n",
       "917    173              N      0.0       Up             0  "
      ]
     },
     "execution_count": 8,
     "metadata": {},
     "output_type": "execute_result"
    }
   ],
   "source": [
    "df.tail()"
   ]
  },
  {
   "cell_type": "code",
   "execution_count": 9,
   "id": "9d171572-b6e6-429b-91e8-15d694957d08",
   "metadata": {},
   "outputs": [
    {
     "data": {
      "text/html": [
       "<div>\n",
       "<style scoped>\n",
       "    .dataframe tbody tr th:only-of-type {\n",
       "        vertical-align: middle;\n",
       "    }\n",
       "\n",
       "    .dataframe tbody tr th {\n",
       "        vertical-align: top;\n",
       "    }\n",
       "\n",
       "    .dataframe thead th {\n",
       "        text-align: right;\n",
       "    }\n",
       "</style>\n",
       "<table border=\"1\" class=\"dataframe\">\n",
       "  <thead>\n",
       "    <tr style=\"text-align: right;\">\n",
       "      <th></th>\n",
       "      <th>count</th>\n",
       "      <th>mean</th>\n",
       "      <th>std</th>\n",
       "      <th>min</th>\n",
       "      <th>25%</th>\n",
       "      <th>50%</th>\n",
       "      <th>75%</th>\n",
       "      <th>max</th>\n",
       "    </tr>\n",
       "  </thead>\n",
       "  <tbody>\n",
       "    <tr>\n",
       "      <th>Age</th>\n",
       "      <td>918.0</td>\n",
       "      <td>53.510893</td>\n",
       "      <td>9.432617</td>\n",
       "      <td>28.0</td>\n",
       "      <td>47.00</td>\n",
       "      <td>54.0</td>\n",
       "      <td>60.0</td>\n",
       "      <td>77.0</td>\n",
       "    </tr>\n",
       "    <tr>\n",
       "      <th>RestingBP</th>\n",
       "      <td>918.0</td>\n",
       "      <td>132.396514</td>\n",
       "      <td>18.514154</td>\n",
       "      <td>0.0</td>\n",
       "      <td>120.00</td>\n",
       "      <td>130.0</td>\n",
       "      <td>140.0</td>\n",
       "      <td>200.0</td>\n",
       "    </tr>\n",
       "    <tr>\n",
       "      <th>Cholesterol</th>\n",
       "      <td>918.0</td>\n",
       "      <td>198.799564</td>\n",
       "      <td>109.384145</td>\n",
       "      <td>0.0</td>\n",
       "      <td>173.25</td>\n",
       "      <td>223.0</td>\n",
       "      <td>267.0</td>\n",
       "      <td>603.0</td>\n",
       "    </tr>\n",
       "    <tr>\n",
       "      <th>FastingBS</th>\n",
       "      <td>918.0</td>\n",
       "      <td>0.233115</td>\n",
       "      <td>0.423046</td>\n",
       "      <td>0.0</td>\n",
       "      <td>0.00</td>\n",
       "      <td>0.0</td>\n",
       "      <td>0.0</td>\n",
       "      <td>1.0</td>\n",
       "    </tr>\n",
       "    <tr>\n",
       "      <th>MaxHR</th>\n",
       "      <td>918.0</td>\n",
       "      <td>136.809368</td>\n",
       "      <td>25.460334</td>\n",
       "      <td>60.0</td>\n",
       "      <td>120.00</td>\n",
       "      <td>138.0</td>\n",
       "      <td>156.0</td>\n",
       "      <td>202.0</td>\n",
       "    </tr>\n",
       "    <tr>\n",
       "      <th>Oldpeak</th>\n",
       "      <td>918.0</td>\n",
       "      <td>0.887364</td>\n",
       "      <td>1.066570</td>\n",
       "      <td>-2.6</td>\n",
       "      <td>0.00</td>\n",
       "      <td>0.6</td>\n",
       "      <td>1.5</td>\n",
       "      <td>6.2</td>\n",
       "    </tr>\n",
       "    <tr>\n",
       "      <th>HeartDisease</th>\n",
       "      <td>918.0</td>\n",
       "      <td>0.553377</td>\n",
       "      <td>0.497414</td>\n",
       "      <td>0.0</td>\n",
       "      <td>0.00</td>\n",
       "      <td>1.0</td>\n",
       "      <td>1.0</td>\n",
       "      <td>1.0</td>\n",
       "    </tr>\n",
       "  </tbody>\n",
       "</table>\n",
       "</div>"
      ],
      "text/plain": [
       "              count        mean         std   min     25%    50%    75%    max\n",
       "Age           918.0   53.510893    9.432617  28.0   47.00   54.0   60.0   77.0\n",
       "RestingBP     918.0  132.396514   18.514154   0.0  120.00  130.0  140.0  200.0\n",
       "Cholesterol   918.0  198.799564  109.384145   0.0  173.25  223.0  267.0  603.0\n",
       "FastingBS     918.0    0.233115    0.423046   0.0    0.00    0.0    0.0    1.0\n",
       "MaxHR         918.0  136.809368   25.460334  60.0  120.00  138.0  156.0  202.0\n",
       "Oldpeak       918.0    0.887364    1.066570  -2.6    0.00    0.6    1.5    6.2\n",
       "HeartDisease  918.0    0.553377    0.497414   0.0    0.00    1.0    1.0    1.0"
      ]
     },
     "execution_count": 9,
     "metadata": {},
     "output_type": "execute_result"
    }
   ],
   "source": [
    "df.describe().T"
   ]
  },
  {
   "cell_type": "code",
   "execution_count": 10,
   "id": "a7ef3f13-5ec2-4914-9e7e-5b1ab9fe9854",
   "metadata": {},
   "outputs": [
    {
     "data": {
      "text/html": [
       "<div>\n",
       "<style scoped>\n",
       "    .dataframe tbody tr th:only-of-type {\n",
       "        vertical-align: middle;\n",
       "    }\n",
       "\n",
       "    .dataframe tbody tr th {\n",
       "        vertical-align: top;\n",
       "    }\n",
       "\n",
       "    .dataframe thead th {\n",
       "        text-align: right;\n",
       "    }\n",
       "</style>\n",
       "<table border=\"1\" class=\"dataframe\">\n",
       "  <thead>\n",
       "    <tr style=\"text-align: right;\">\n",
       "      <th></th>\n",
       "      <th>columns</th>\n",
       "      <th>dtypes</th>\n",
       "      <th>nunique</th>\n",
       "      <th>Null</th>\n",
       "    </tr>\n",
       "  </thead>\n",
       "  <tbody>\n",
       "    <tr>\n",
       "      <th>Age</th>\n",
       "      <td>Age</td>\n",
       "      <td>int64</td>\n",
       "      <td>50</td>\n",
       "      <td>0</td>\n",
       "    </tr>\n",
       "    <tr>\n",
       "      <th>Sex</th>\n",
       "      <td>Sex</td>\n",
       "      <td>object</td>\n",
       "      <td>2</td>\n",
       "      <td>0</td>\n",
       "    </tr>\n",
       "    <tr>\n",
       "      <th>ChestPainType</th>\n",
       "      <td>ChestPainType</td>\n",
       "      <td>object</td>\n",
       "      <td>4</td>\n",
       "      <td>0</td>\n",
       "    </tr>\n",
       "    <tr>\n",
       "      <th>RestingBP</th>\n",
       "      <td>RestingBP</td>\n",
       "      <td>int64</td>\n",
       "      <td>67</td>\n",
       "      <td>0</td>\n",
       "    </tr>\n",
       "    <tr>\n",
       "      <th>Cholesterol</th>\n",
       "      <td>Cholesterol</td>\n",
       "      <td>int64</td>\n",
       "      <td>222</td>\n",
       "      <td>0</td>\n",
       "    </tr>\n",
       "    <tr>\n",
       "      <th>FastingBS</th>\n",
       "      <td>FastingBS</td>\n",
       "      <td>int64</td>\n",
       "      <td>2</td>\n",
       "      <td>0</td>\n",
       "    </tr>\n",
       "    <tr>\n",
       "      <th>RestingECG</th>\n",
       "      <td>RestingECG</td>\n",
       "      <td>object</td>\n",
       "      <td>3</td>\n",
       "      <td>0</td>\n",
       "    </tr>\n",
       "    <tr>\n",
       "      <th>MaxHR</th>\n",
       "      <td>MaxHR</td>\n",
       "      <td>int64</td>\n",
       "      <td>119</td>\n",
       "      <td>0</td>\n",
       "    </tr>\n",
       "    <tr>\n",
       "      <th>ExerciseAngina</th>\n",
       "      <td>ExerciseAngina</td>\n",
       "      <td>object</td>\n",
       "      <td>2</td>\n",
       "      <td>0</td>\n",
       "    </tr>\n",
       "    <tr>\n",
       "      <th>Oldpeak</th>\n",
       "      <td>Oldpeak</td>\n",
       "      <td>float64</td>\n",
       "      <td>53</td>\n",
       "      <td>0</td>\n",
       "    </tr>\n",
       "    <tr>\n",
       "      <th>ST_Slope</th>\n",
       "      <td>ST_Slope</td>\n",
       "      <td>object</td>\n",
       "      <td>3</td>\n",
       "      <td>0</td>\n",
       "    </tr>\n",
       "    <tr>\n",
       "      <th>HeartDisease</th>\n",
       "      <td>HeartDisease</td>\n",
       "      <td>int64</td>\n",
       "      <td>2</td>\n",
       "      <td>0</td>\n",
       "    </tr>\n",
       "  </tbody>\n",
       "</table>\n",
       "</div>"
      ],
      "text/plain": [
       "                       columns   dtypes  nunique  Null\n",
       "Age                        Age    int64       50     0\n",
       "Sex                        Sex   object        2     0\n",
       "ChestPainType    ChestPainType   object        4     0\n",
       "RestingBP            RestingBP    int64       67     0\n",
       "Cholesterol        Cholesterol    int64      222     0\n",
       "FastingBS            FastingBS    int64        2     0\n",
       "RestingECG          RestingECG   object        3     0\n",
       "MaxHR                    MaxHR    int64      119     0\n",
       "ExerciseAngina  ExerciseAngina   object        2     0\n",
       "Oldpeak                Oldpeak  float64       53     0\n",
       "ST_Slope              ST_Slope   object        3     0\n",
       "HeartDisease      HeartDisease    int64        2     0"
      ]
     },
     "execution_count": 10,
     "metadata": {},
     "output_type": "execute_result"
    }
   ],
   "source": [
    "info = {\"columns\" : df.columns, \"dtypes\" : df.dtypes, \"nunique\" : df.nunique(), \"Null\" : df.isnull().sum()}\n",
    "pd.DataFrame(info)"
   ]
  },
  {
   "cell_type": "code",
   "execution_count": 11,
   "id": "be7ab5f4-1661-411a-8346-dd49cab228f7",
   "metadata": {},
   "outputs": [
    {
     "name": "stdout",
     "output_type": "stream",
     "text": [
      "<class 'pandas.core.frame.DataFrame'>\n",
      "RangeIndex: 918 entries, 0 to 917\n",
      "Data columns (total 12 columns):\n",
      " #   Column          Non-Null Count  Dtype  \n",
      "---  ------          --------------  -----  \n",
      " 0   Age             918 non-null    int64  \n",
      " 1   Sex             918 non-null    object \n",
      " 2   ChestPainType   918 non-null    object \n",
      " 3   RestingBP       918 non-null    int64  \n",
      " 4   Cholesterol     918 non-null    int64  \n",
      " 5   FastingBS       918 non-null    int64  \n",
      " 6   RestingECG      918 non-null    object \n",
      " 7   MaxHR           918 non-null    int64  \n",
      " 8   ExerciseAngina  918 non-null    object \n",
      " 9   Oldpeak         918 non-null    float64\n",
      " 10  ST_Slope        918 non-null    object \n",
      " 11  HeartDisease    918 non-null    int64  \n",
      "dtypes: float64(1), int64(6), object(5)\n",
      "memory usage: 86.2+ KB\n"
     ]
    }
   ],
   "source": [
    "df.info()"
   ]
  },
  {
   "cell_type": "markdown",
   "id": "0f2ef079-233a-426c-97b8-fc0b07016407",
   "metadata": {},
   "source": [
    "# Corolation"
   ]
  },
  {
   "cell_type": "code",
   "execution_count": 13,
   "id": "43ea8f30-ffe3-45a4-9fdf-dc282e4dfc41",
   "metadata": {},
   "outputs": [
    {
     "data": {
      "text/plain": [
       "<Axes: >"
      ]
     },
     "execution_count": 13,
     "metadata": {},
     "output_type": "execute_result"
    },
    {
     "data": {
      "image/png": "[encoded data removed]",
      "text/plain": [
       "<Figure size 1500x1500 with 2 Axes>"
      ]
     },
     "metadata": {},
     "output_type": "display_data"
    }
   ],
   "source": [
    "plt.figure(figsize = (15,15))\n",
    "sns.heatmap(data = df.corr(numeric_only=True), annot = True, fmt=\".2f\")"
   ]
  },
  {
   "cell_type": "markdown",
   "id": "7bde2970-7bde-4ac4-855c-07657383de2c",
   "metadata": {},
   "source": [
    "# Outlires"
   ]
  },
  {
   "cell_type": "code",
   "execution_count": 15,
   "id": "913baad5-a4e4-4e2d-b9cb-d30dee80a1ff",
   "metadata": {},
   "outputs": [
    {
     "data": {
      "image/png": "[encoded data removed]",
      "text/plain": [
       "<Figure size 1500x1000 with 7 Axes>"
      ]
     },
     "metadata": {},
     "output_type": "display_data"
    }
   ],
   "source": [
    "plt.figure(figsize = (15,10))\n",
    "for i, col in enumerate(df.select_dtypes(include = \"number\").columns):\n",
    "    plt.subplot(2,4,i+1)\n",
    "    sns.boxplot(data = df[col],orient = \"h\")\n",
    "    #plt.title(col)\n",
    "plt.show()"
   ]
  },
  {
   "cell_type": "code",
   "execution_count": 26,
   "id": "719ce4e6-83d5-4e2a-955a-2667b05bee37",
   "metadata": {},
   "outputs": [],
   "source": [
    "for i in [\"Oldpeak\", \"RestingBP\"]:\n",
    "    q1 = df[i].quantile(0.25)\n",
    "    q3 = df[i].quantile(0.75)\n",
    "    iqr = q3 - q1\n",
    "    lower_bound = q1 - (iqr * 1.5)\n",
    "    upper_bound = q3 + (iqr * 0.5)\n",
    "    df = df[(df[i] >= lower_bound) & (df[i] <= upper_bound)]"
   ]
  },
  {
   "cell_type": "code",
   "execution_count": 28,
   "id": "da15b2cd-4d81-4e98-9470-1085e5c32f4d",
   "metadata": {},
   "outputs": [
    {
     "name": "stderr",
     "output_type": "stream",
     "text": [
      "C:\\Users\\Mx\\AppData\\Local\\Temp\\ipykernel_20448\\3673105455.py:10: FutureWarning: A value is trying to be set on a copy of a DataFrame or Series through chained assignment using an inplace method.\n",
      "The behavior will change in pandas 3.0. This inplace method will never work because the intermediate object on which we are setting values always behaves as a copy.\n",
      "\n",
      "For example, when doing 'df[col].method(value, inplace=True)', try using 'df.method({col: value}, inplace=True)' or df[col] = df[col].method(value) instead, to perform the operation inplace on the original object.\n",
      "\n",
      "\n",
      "  df[\"Cholesterol\"].replace(upper_outlires, upper, inplace = True)\n"
     ]
    }
   ],
   "source": [
    "q1 = df[\"Cholesterol\"].quantile(0.25)\n",
    "q3 = df[\"Cholesterol\"].quantile(0.75)\n",
    "iqr = q3 - q1\n",
    "upper = q3 + iqr\n",
    "lower = q1 - iqr\n",
    "\n",
    "upper_outlires = df[df[\"Cholesterol\"] > upper][\"Cholesterol\"].values\n",
    "#lower_outlires = df[df[\"Cholesterol\"] < upper][\"Cholesterol\"].values\n",
    "\n",
    "df[\"Cholesterol\"].replace(upper_outlires, upper, inplace = True)\n",
    "#df[\"Cholesterol\"].replace(lower_outlires, lower, inplace = True) "
   ]
  },
  {
   "cell_type": "code",
   "execution_count": 30,
   "id": "2d4f497b-24d7-43cd-8e46-575d6d76ecc3",
   "metadata": {},
   "outputs": [
    {
     "data": {
      "image/png": "[encoded data removed]",
      "text/plain": [
       "<Figure size 1500x1000 with 3 Axes>"
      ]
     },
     "metadata": {},
     "output_type": "display_data"
    }
   ],
   "source": [
    "out_cols = [\"Oldpeak\", \"RestingBP\", \"Cholesterol\"]\n",
    "\n",
    "plt.figure(figsize = (15,10))\n",
    "for i, col in enumerate(out_cols):\n",
    "    plt.subplot(2,4,i+1)\n",
    "    sns.boxplot(data = df[col],orient = \"h\")\n",
    "    #plt.title(col)\n",
    "plt.show()"
   ]
  },
  {
   "cell_type": "code",
   "execution_count": 32,
   "id": "4c401d75-7dd4-4fcb-963e-83e5302e1f64",
   "metadata": {},
   "outputs": [
    {
     "data": {
      "text/plain": [
       "(725, 12)"
      ]
     },
     "execution_count": 32,
     "metadata": {},
     "output_type": "execute_result"
    }
   ],
   "source": [
    "df.shape"
   ]
  },
  {
   "cell_type": "code",
   "execution_count": 34,
   "id": "603a1dbb-dd56-4574-bb9d-3d15a46e6afa",
   "metadata": {},
   "outputs": [],
   "source": [
    "#sns.pairplot(data = df)\n",
    "#plt.show()"
   ]
  },
  {
   "cell_type": "code",
   "execution_count": 36,
   "id": "a4537283-b339-46bb-81ae-ee129f1940a5",
   "metadata": {},
   "outputs": [
    {
     "data": {
      "text/plain": [
       "[<matplotlib.lines.Line2D at 0x1b1fc83e990>]"
      ]
     },
     "execution_count": 36,
     "metadata": {},
     "output_type": "execute_result"
    },
    {
     "data": {
      "image/png": "[encoded data removed]",
      "text/plain": [
       "<Figure size 640x480 with 1 Axes>"
      ]
     },
     "metadata": {},
     "output_type": "display_data"
    }
   ],
   "source": [
    "mod = df['Age'].mode()[0]\n",
    "mn = np.mean(df['Age'])\n",
    "med = np.median(df['Age'])\n",
    "\n",
    "sns.histplot(data = df, x = \"Age\", bins = [i for i in range(0,80,10)])\n",
    "plt.plot([mn for i in range(0,300)], [i for i in range(0,300)], c = \"green\", label = \"mean\")\n",
    "plt.plot([mod for i in range(0,300)], [i for i in range(0,300)], c = \"red\", label = \"mode\")\n",
    "plt.plot([med for i in range(0,300)], [i for i in range(0,300)], c = \"blue\", label = \"median\")"
   ]
  },
  {
   "cell_type": "markdown",
   "id": "8e185fd5-ebbf-4da5-a6f1-9bfe3d611d62",
   "metadata": {},
   "source": [
    "### replace the outlires"
   ]
  },
  {
   "cell_type": "code",
   "execution_count": 39,
   "id": "6d419413-de4a-425f-b451-2daec883af75",
   "metadata": {},
   "outputs": [
    {
     "data": {
      "text/plain": [
       "'\\nfor i in out_cols:\\n    q1 = df[i].quantile(0.25)\\n    q3 = df[i].quantile(0.75)\\n    iqr = q3 - q1\\n    upper = q3 + iqr\\n    lower = q1 - iqr\\n\\n    upper_outlires = df[df[i] > upper][i].values\\n    lower_outlires = df[df[i] < upper][i].values\\n\\n    df[i].replace(upper_outlires, upper, inplace = True)\\n    df[i].replace(lower_outlires, lower, inplace = True)\\n    '"
      ]
     },
     "execution_count": 39,
     "metadata": {},
     "output_type": "execute_result"
    }
   ],
   "source": [
    "\"\"\"\n",
    "for i in out_cols:\n",
    "    q1 = df[i].quantile(0.25)\n",
    "    q3 = df[i].quantile(0.75)\n",
    "    iqr = q3 - q1\n",
    "    upper = q3 + iqr\n",
    "    lower = q1 - iqr\n",
    "\n",
    "    upper_outlires = df[df[i] > upper][i].values\n",
    "    lower_outlires = df[df[i] < upper][i].values\n",
    "\n",
    "    df[i].replace(upper_outlires, upper, inplace = True)\n",
    "    df[i].replace(lower_outlires, lower, inplace = True)\n",
    "    \"\"\""
   ]
  },
  {
   "cell_type": "code",
   "execution_count": 41,
   "id": "bd5629fa-e8ae-4936-be44-eec2282485be",
   "metadata": {},
   "outputs": [
    {
     "name": "stdout",
     "output_type": "stream",
     "text": [
      "<class 'pandas.core.frame.DataFrame'>\n",
      "Index: 725 entries, 0 to 917\n",
      "Data columns (total 12 columns):\n",
      " #   Column          Non-Null Count  Dtype  \n",
      "---  ------          --------------  -----  \n",
      " 0   Age             725 non-null    int64  \n",
      " 1   Sex             725 non-null    object \n",
      " 2   ChestPainType   725 non-null    object \n",
      " 3   RestingBP       725 non-null    int64  \n",
      " 4   Cholesterol     725 non-null    int64  \n",
      " 5   FastingBS       725 non-null    int64  \n",
      " 6   RestingECG      725 non-null    object \n",
      " 7   MaxHR           725 non-null    int64  \n",
      " 8   ExerciseAngina  725 non-null    object \n",
      " 9   Oldpeak         725 non-null    float64\n",
      " 10  ST_Slope        725 non-null    object \n",
      " 11  HeartDisease    725 non-null    int64  \n",
      "dtypes: float64(1), int64(6), object(5)\n",
      "memory usage: 73.6+ KB\n"
     ]
    }
   ],
   "source": [
    "df.info()"
   ]
  },
  {
   "cell_type": "code",
   "execution_count": 43,
   "id": "88b55dae-b3eb-41a9-9b28-bfae0597cb57",
   "metadata": {},
   "outputs": [
    {
     "data": {
      "text/plain": [
       "['ExerciseAngina', 'ChestPainType', 'Sex']"
      ]
     },
     "execution_count": 43,
     "metadata": {},
     "output_type": "execute_result"
    }
   ],
   "source": [
    "ordinal_cols = \"ExerciseAngina ChestPainType Sex\".split()\n",
    "ordinal_cols"
   ]
  },
  {
   "cell_type": "code",
   "execution_count": 45,
   "id": "c059ce16-ce2a-4d10-ac5c-f75df3d9e365",
   "metadata": {},
   "outputs": [
    {
     "name": "stdout",
     "output_type": "stream",
     "text": [
      "-------------------------\n",
      "ExerciseAngina\n",
      "1    460\n",
      "2    265\n",
      "Name: count, dtype: int64\n",
      "-------------------------\n",
      "ChestPainType\n",
      "4    374\n",
      "2    166\n",
      "1    153\n",
      "3     32\n",
      "Name: count, dtype: int64\n",
      "-------------------------\n",
      "Sex\n",
      "2    564\n",
      "1    161\n",
      "Name: count, dtype: int64\n"
     ]
    }
   ],
   "source": [
    "#ordinal_columns = df.select_dtypes(include = \"object\").columns\n",
    "for i in ordinal_cols:\n",
    "    ordinal = df.groupby(i)[\"HeartDisease\"].mean().sort_values(ascending=False)\n",
    "    \n",
    "    print(\"-------------------------\")\n",
    "    df[i] = df[i].map(ordinal.rank().astype(int))\n",
    "    print(df[i].value_counts())"
   ]
  },
  {
   "cell_type": "code",
   "execution_count": 47,
   "id": "c0f3bf24-3475-4859-9884-351938497bd7",
   "metadata": {},
   "outputs": [
    {
     "data": {
      "text/plain": [
       "['ST_Slope', 'RestingECG']"
      ]
     },
     "execution_count": 47,
     "metadata": {},
     "output_type": "execute_result"
    }
   ],
   "source": [
    "encoding = \"ST_Slope RestingECG\".split()\n",
    "encoding"
   ]
  },
  {
   "cell_type": "code",
   "execution_count": 49,
   "id": "0ecdbd0e-ec23-4aab-93f8-b7da0b3ba48c",
   "metadata": {},
   "outputs": [],
   "source": [
    "df = pd.get_dummies(data = df, columns = encoding, drop_first = True)\n",
    "bool_columns = df.select_dtypes(include = \"bool\").columns\n",
    "for i in bool_columns:\n",
    "    df[i] = df[i].apply(lambda x : x * 1)"
   ]
  },
  {
   "cell_type": "markdown",
   "id": "eea02a0a-01a3-41e0-a92b-447a126518e3",
   "metadata": {},
   "source": [
    "# encoding"
   ]
  },
  {
   "cell_type": "code",
   "execution_count": 52,
   "id": "5985e87c-bdb8-42ab-a3fe-6fb3e66c9da0",
   "metadata": {},
   "outputs": [],
   "source": [
    "from sklearn.preprocessing import LabelEncoder\n",
    "le = LabelEncoder()\n",
    "df[\"Sex\"] = le.fit_transform(df[\"Sex\"])\n",
    "df[\"ExerciseAngina\"] = le.fit_transform(df[\"ExerciseAngina\"])"
   ]
  },
  {
   "cell_type": "code",
   "execution_count": 53,
   "id": "f012b7b5-1a29-484c-b246-d9341886456f",
   "metadata": {},
   "outputs": [
    {
     "data": {
      "text/plain": [
       "Index([], dtype='object')"
      ]
     },
     "execution_count": 53,
     "metadata": {},
     "output_type": "execute_result"
    }
   ],
   "source": [
    "object_columns = df.select_dtypes(include = \"object\").columns\n",
    "object_columns"
   ]
  },
  {
   "cell_type": "code",
   "execution_count": 56,
   "id": "aede67bd-73b5-4d0c-90d3-4df31cf50ec0",
   "metadata": {},
   "outputs": [],
   "source": [
    "df = pd.get_dummies(data = df, columns = object_columns, drop_first = True)"
   ]
  },
  {
   "cell_type": "code",
   "execution_count": 58,
   "id": "67425d7d-07e4-4bd4-bde0-b1f893632a98",
   "metadata": {},
   "outputs": [],
   "source": [
    "bool_columns = df.select_dtypes(include = \"bool\").columns\n",
    "for i in bool_columns:\n",
    "    df[i] = df[i].apply(lambda x : x * 1)"
   ]
  },
  {
   "cell_type": "code",
   "execution_count": 60,
   "id": "eb129683-3436-44b4-b65a-e3d7768668f3",
   "metadata": {},
   "outputs": [
    {
     "name": "stdout",
     "output_type": "stream",
     "text": [
      "<class 'pandas.core.frame.DataFrame'>\n",
      "Index: 725 entries, 0 to 917\n",
      "Data columns (total 14 columns):\n",
      " #   Column             Non-Null Count  Dtype  \n",
      "---  ------             --------------  -----  \n",
      " 0   Age                725 non-null    int64  \n",
      " 1   Sex                725 non-null    int64  \n",
      " 2   ChestPainType      725 non-null    int32  \n",
      " 3   RestingBP          725 non-null    int64  \n",
      " 4   Cholesterol        725 non-null    int64  \n",
      " 5   FastingBS          725 non-null    int64  \n",
      " 6   MaxHR              725 non-null    int64  \n",
      " 7   ExerciseAngina     725 non-null    int64  \n",
      " 8   Oldpeak            725 non-null    float64\n",
      " 9   HeartDisease       725 non-null    int64  \n",
      " 10  ST_Slope_Flat      725 non-null    int64  \n",
      " 11  ST_Slope_Up        725 non-null    int64  \n",
      " 12  RestingECG_Normal  725 non-null    int64  \n",
      " 13  RestingECG_ST      725 non-null    int64  \n",
      "dtypes: float64(1), int32(1), int64(12)\n",
      "memory usage: 82.1 KB\n"
     ]
    }
   ],
   "source": [
    "df.info()"
   ]
  },
  {
   "cell_type": "markdown",
   "id": "13797c2a-d4d7-4581-8b88-fedfb6e694e1",
   "metadata": {},
   "source": [
    "# split the data"
   ]
  },
  {
   "cell_type": "code",
   "execution_count": 63,
   "id": "a3b42bf8-d086-49cb-828a-71250bfc9b91",
   "metadata": {},
   "outputs": [],
   "source": [
    "x = df.drop(\"HeartDisease\",axis = 1)\n",
    "y = df['HeartDisease']"
   ]
  },
  {
   "cell_type": "markdown",
   "id": "1a2d99a8-0c6a-48d5-ac3c-0eee8ab3747c",
   "metadata": {},
   "source": [
    "# Standardization"
   ]
  },
  {
   "cell_type": "code",
   "execution_count": 66,
   "id": "a138fc7f-4f8a-4653-9f2d-b19ea362175b",
   "metadata": {},
   "outputs": [],
   "source": [
    "from sklearn.preprocessing import StandardScaler, MinMaxScaler\n",
    "sc = MinMaxScaler()\n",
    "x_sc = sc.fit_transform(x)"
   ]
  },
  {
   "cell_type": "code",
   "execution_count": 68,
   "id": "f1b61d26-6405-47fa-b006-1c081ac0d5c7",
   "metadata": {},
   "outputs": [],
   "source": [
    "from sklearn.model_selection import train_test_split"
   ]
  },
  {
   "cell_type": "code",
   "execution_count": 72,
   "id": "17f38350-1eed-482d-b7ce-7feeb7c43839",
   "metadata": {},
   "outputs": [],
   "source": [
    "X_train, X_test, y_train, y_test = train_test_split(x_sc, y, test_size=0.30, random_state=0, stratify=y)"
   ]
  },
  {
   "cell_type": "markdown",
   "id": "a2df55a1-c166-42e3-9cd4-be0b8aaef1d1",
   "metadata": {},
   "source": [
    "# logistic regression"
   ]
  },
  {
   "cell_type": "code",
   "execution_count": 136,
   "id": "dae8d2d8-c9b3-4b5d-945d-9ffafcfa7af0",
   "metadata": {},
   "outputs": [],
   "source": [
    "from sklearn.linear_model import LogisticRegression\n",
    "# we can add Lasso or Ridge to the model by the penalty method \n",
    "# Lasso --> penalty = \"l1\"\n",
    "# Ridge --> penalty = \"l2\"\n",
    "# and we can control the Lambda by 'C'\n",
    "# less value of c indecate more rigularzation\n",
    "lr = LogisticRegression(max_iter=100) #  defult penalty = \"l2\""
   ]
  },
  {
   "cell_type": "code",
   "execution_count": 138,
   "id": "74fa1a6e-918c-4e3a-b5ab-57fa5d9ca14f",
   "metadata": {},
   "outputs": [
    {
     "data": {
      "text/html": [
       "<style>#sk-container-id-2 {\n",
       "  /* Definition of color scheme common for light and dark mode */\n",
       "  --sklearn-color-text: black;\n",
       "  --sklearn-color-line: gray;\n",
       "  /* Definition of color scheme for unfitted estimators */\n",
       "  --sklearn-color-unfitted-level-0: #fff5e6;\n",
       "  --sklearn-color-unfitted-level-1: #f6e4d2;\n",
       "  --sklearn-color-unfitted-level-2: #ffe0b3;\n",
       "  --sklearn-color-unfitted-level-3: chocolate;\n",
       "  /* Definition of color scheme for fitted estimators */\n",
       "  --sklearn-color-fitted-level-0: #f0f8ff;\n",
       "  --sklearn-color-fitted-level-1: #d4ebff;\n",
       "  --sklearn-color-fitted-level-2: #b3dbfd;\n",
       "  --sklearn-color-fitted-level-3: cornflowerblue;\n",
       "\n",
       "  /* Specific color for light theme */\n",
       "  --sklearn-color-text-on-default-background: var(--sg-text-color, var(--theme-code-foreground, var(--jp-content-font-color1, black)));\n",
       "  --sklearn-color-background: var(--sg-background-color, var(--theme-background, var(--jp-layout-color0, white)));\n",
       "  --sklearn-color-border-box: var(--sg-text-color, var(--theme-code-foreground, var(--jp-content-font-color1, black)));\n",
       "  --sklearn-color-icon: #696969;\n",
       "\n",
       "  @media (prefers-color-scheme: dark) {\n",
       "    /* Redefinition of color scheme for dark theme */\n",
       "    --sklearn-color-text-on-default-background: var(--sg-text-color, var(--theme-code-foreground, var(--jp-content-font-color1, white)));\n",
       "    --sklearn-color-background: var(--sg-background-color, var(--theme-background, var(--jp-layout-color0, #111)));\n",
       "    --sklearn-color-border-box: var(--sg-text-color, var(--theme-code-foreground, var(--jp-content-font-color1, white)));\n",
       "    --sklearn-color-icon: #878787;\n",
       "  }\n",
       "}\n",
       "\n",
       "#sk-container-id-2 {\n",
       "  color: var(--sklearn-color-text);\n",
       "}\n",
       "\n",
       "#sk-container-id-2 pre {\n",
       "  padding: 0;\n",
       "}\n",
       "\n",
       "#sk-container-id-2 input.sk-hidden--visually {\n",
       "  border: 0;\n",
       "  clip: rect(1px 1px 1px 1px);\n",
       "  clip: rect(1px, 1px, 1px, 1px);\n",
       "  height: 1px;\n",
       "  margin: -1px;\n",
       "  overflow: hidden;\n",
       "  padding: 0;\n",
       "  position: absolute;\n",
       "  width: 1px;\n",
       "}\n",
       "\n",
       "#sk-container-id-2 div.sk-dashed-wrapped {\n",
       "  border: 1px dashed var(--sklearn-color-line);\n",
       "  margin: 0 0.4em 0.5em 0.4em;\n",
       "  box-sizing: border-box;\n",
       "  padding-bottom: 0.4em;\n",
       "  background-color: var(--sklearn-color-background);\n",
       "}\n",
       "\n",
       "#sk-container-id-2 div.sk-container {\n",
       "  /* jupyter's `normalize.less` sets `[hidden] { display: none; }`\n",
       "     but bootstrap.min.css set `[hidden] { display: none !important; }`\n",
       "     so we also need the `!important` here to be able to override the\n",
       "     default hidden behavior on the sphinx rendered scikit-learn.org.\n",
       "     See: https://github.com/scikit-learn/scikit-learn/issues/21755 */\n",
       "  display: inline-block !important;\n",
       "  position: relative;\n",
       "}\n",
       "\n",
       "#sk-container-id-2 div.sk-text-repr-fallback {\n",
       "  display: none;\n",
       "}\n",
       "\n",
       "div.sk-parallel-item,\n",
       "div.sk-serial,\n",
       "div.sk-item {\n",
       "  /* draw centered vertical line to link estimators */\n",
       "  background-image: linear-gradient(var(--sklearn-color-text-on-default-background), var(--sklearn-color-text-on-default-background));\n",
       "  background-size: 2px 100%;\n",
       "  background-repeat: no-repeat;\n",
       "  background-position: center center;\n",
       "}\n",
       "\n",
       "/* Parallel-specific style estimator block */\n",
       "\n",
       "#sk-container-id-2 div.sk-parallel-item::after {\n",
       "  content: \"\";\n",
       "  width: 100%;\n",
       "  border-bottom: 2px solid var(--sklearn-color-text-on-default-background);\n",
       "  flex-grow: 1;\n",
       "}\n",
       "\n",
       "#sk-container-id-2 div.sk-parallel {\n",
       "  display: flex;\n",
       "  align-items: stretch;\n",
       "  justify-content: center;\n",
       "  background-color: var(--sklearn-color-background);\n",
       "  position: relative;\n",
       "}\n",
       "\n",
       "#sk-container-id-2 div.sk-parallel-item {\n",
       "  display: flex;\n",
       "  flex-direction: column;\n",
       "}\n",
       "\n",
       "#sk-container-id-2 div.sk-parallel-item:first-child::after {\n",
       "  align-self: flex-end;\n",
       "  width: 50%;\n",
       "}\n",
       "\n",
       "#sk-container-id-2 div.sk-parallel-item:last-child::after {\n",
       "  align-self: flex-start;\n",
       "  width: 50%;\n",
       "}\n",
       "\n",
       "#sk-container-id-2 div.sk-parallel-item:only-child::after {\n",
       "  width: 0;\n",
       "}\n",
       "\n",
       "/* Serial-specific style estimator block */\n",
       "\n",
       "#sk-container-id-2 div.sk-serial {\n",
       "  display: flex;\n",
       "  flex-direction: column;\n",
       "  align-items: center;\n",
       "  background-color: var(--sklearn-color-background);\n",
       "  padding-right: 1em;\n",
       "  padding-left: 1em;\n",
       "}\n",
       "\n",
       "\n",
       "/* Toggleable style: style used for estimator/Pipeline/ColumnTransformer box that is\n",
       "clickable and can be expanded/collapsed.\n",
       "- Pipeline and ColumnTransformer use this feature and define the default style\n",
       "- Estimators will overwrite some part of the style using the `sk-estimator` class\n",
       "*/\n",
       "\n",
       "/* Pipeline and ColumnTransformer style (default) */\n",
       "\n",
       "#sk-container-id-2 div.sk-toggleable {\n",
       "  /* Default theme specific background. It is overwritten whether we have a\n",
       "  specific estimator or a Pipeline/ColumnTransformer */\n",
       "  background-color: var(--sklearn-color-background);\n",
       "}\n",
       "\n",
       "/* Toggleable label */\n",
       "#sk-container-id-2 label.sk-toggleable__label {\n",
       "  cursor: pointer;\n",
       "  display: block;\n",
       "  width: 100%;\n",
       "  margin-bottom: 0;\n",
       "  padding: 0.5em;\n",
       "  box-sizing: border-box;\n",
       "  text-align: center;\n",
       "}\n",
       "\n",
       "#sk-container-id-2 label.sk-toggleable__label-arrow:before {\n",
       "  /* Arrow on the left of the label */\n",
       "  content: \"▸\";\n",
       "  float: left;\n",
       "  margin-right: 0.25em;\n",
       "  color: var(--sklearn-color-icon);\n",
       "}\n",
       "\n",
       "#sk-container-id-2 label.sk-toggleable__label-arrow:hover:before {\n",
       "  color: var(--sklearn-color-text);\n",
       "}\n",
       "\n",
       "/* Toggleable content - dropdown */\n",
       "\n",
       "#sk-container-id-2 div.sk-toggleable__content {\n",
       "  max-height: 0;\n",
       "  max-width: 0;\n",
       "  overflow: hidden;\n",
       "  text-align: left;\n",
       "  /* unfitted */\n",
       "  background-color: var(--sklearn-color-unfitted-level-0);\n",
       "}\n",
       "\n",
       "#sk-container-id-2 div.sk-toggleable__content.fitted {\n",
       "  /* fitted */\n",
       "  background-color: var(--sklearn-color-fitted-level-0);\n",
       "}\n",
       "\n",
       "#sk-container-id-2 div.sk-toggleable__content pre {\n",
       "  margin: 0.2em;\n",
       "  border-radius: 0.25em;\n",
       "  color: var(--sklearn-color-text);\n",
       "  /* unfitted */\n",
       "  background-color: var(--sklearn-color-unfitted-level-0);\n",
       "}\n",
       "\n",
       "#sk-container-id-2 div.sk-toggleable__content.fitted pre {\n",
       "  /* unfitted */\n",
       "  background-color: var(--sklearn-color-fitted-level-0);\n",
       "}\n",
       "\n",
       "#sk-container-id-2 input.sk-toggleable__control:checked~div.sk-toggleable__content {\n",
       "  /* Expand drop-down */\n",
       "  max-height: 200px;\n",
       "  max-width: 100%;\n",
       "  overflow: auto;\n",
       "}\n",
       "\n",
       "#sk-container-id-2 input.sk-toggleable__control:checked~label.sk-toggleable__label-arrow:before {\n",
       "  content: \"▾\";\n",
       "}\n",
       "\n",
       "/* Pipeline/ColumnTransformer-specific style */\n",
       "\n",
       "#sk-container-id-2 div.sk-label input.sk-toggleable__control:checked~label.sk-toggleable__label {\n",
       "  color: var(--sklearn-color-text);\n",
       "  background-color: var(--sklearn-color-unfitted-level-2);\n",
       "}\n",
       "\n",
       "#sk-container-id-2 div.sk-label.fitted input.sk-toggleable__control:checked~label.sk-toggleable__label {\n",
       "  background-color: var(--sklearn-color-fitted-level-2);\n",
       "}\n",
       "\n",
       "/* Estimator-specific style */\n",
       "\n",
       "/* Colorize estimator box */\n",
       "#sk-container-id-2 div.sk-estimator input.sk-toggleable__control:checked~label.sk-toggleable__label {\n",
       "  /* unfitted */\n",
       "  background-color: var(--sklearn-color-unfitted-level-2);\n",
       "}\n",
       "\n",
       "#sk-container-id-2 div.sk-estimator.fitted input.sk-toggleable__control:checked~label.sk-toggleable__label {\n",
       "  /* fitted */\n",
       "  background-color: var(--sklearn-color-fitted-level-2);\n",
       "}\n",
       "\n",
       "#sk-container-id-2 div.sk-label label.sk-toggleable__label,\n",
       "#sk-container-id-2 div.sk-label label {\n",
       "  /* The background is the default theme color */\n",
       "  color: var(--sklearn-color-text-on-default-background);\n",
       "}\n",
       "\n",
       "/* On hover, darken the color of the background */\n",
       "#sk-container-id-2 div.sk-label:hover label.sk-toggleable__label {\n",
       "  color: var(--sklearn-color-text);\n",
       "  background-color: var(--sklearn-color-unfitted-level-2);\n",
       "}\n",
       "\n",
       "/* Label box, darken color on hover, fitted */\n",
       "#sk-container-id-2 div.sk-label.fitted:hover label.sk-toggleable__label.fitted {\n",
       "  color: var(--sklearn-color-text);\n",
       "  background-color: var(--sklearn-color-fitted-level-2);\n",
       "}\n",
       "\n",
       "/* Estimator label */\n",
       "\n",
       "#sk-container-id-2 div.sk-label label {\n",
       "  font-family: monospace;\n",
       "  font-weight: bold;\n",
       "  display: inline-block;\n",
       "  line-height: 1.2em;\n",
       "}\n",
       "\n",
       "#sk-container-id-2 div.sk-label-container {\n",
       "  text-align: center;\n",
       "}\n",
       "\n",
       "/* Estimator-specific */\n",
       "#sk-container-id-2 div.sk-estimator {\n",
       "  font-family: monospace;\n",
       "  border: 1px dotted var(--sklearn-color-border-box);\n",
       "  border-radius: 0.25em;\n",
       "  box-sizing: border-box;\n",
       "  margin-bottom: 0.5em;\n",
       "  /* unfitted */\n",
       "  background-color: var(--sklearn-color-unfitted-level-0);\n",
       "}\n",
       "\n",
       "#sk-container-id-2 div.sk-estimator.fitted {\n",
       "  /* fitted */\n",
       "  background-color: var(--sklearn-color-fitted-level-0);\n",
       "}\n",
       "\n",
       "/* on hover */\n",
       "#sk-container-id-2 div.sk-estimator:hover {\n",
       "  /* unfitted */\n",
       "  background-color: var(--sklearn-color-unfitted-level-2);\n",
       "}\n",
       "\n",
       "#sk-container-id-2 div.sk-estimator.fitted:hover {\n",
       "  /* fitted */\n",
       "  background-color: var(--sklearn-color-fitted-level-2);\n",
       "}\n",
       "\n",
       "/* Specification for estimator info (e.g. \"i\" and \"?\") */\n",
       "\n",
       "/* Common style for \"i\" and \"?\" */\n",
       "\n",
       ".sk-estimator-doc-link,\n",
       "a:link.sk-estimator-doc-link,\n",
       "a:visited.sk-estimator-doc-link {\n",
       "  float: right;\n",
       "  font-size: smaller;\n",
       "  line-height: 1em;\n",
       "  font-family: monospace;\n",
       "  background-color: var(--sklearn-color-background);\n",
       "  border-radius: 1em;\n",
       "  height: 1em;\n",
       "  width: 1em;\n",
       "  text-decoration: none !important;\n",
       "  margin-left: 1ex;\n",
       "  /* unfitted */\n",
       "  border: var(--sklearn-color-unfitted-level-1) 1pt solid;\n",
       "  color: var(--sklearn-color-unfitted-level-1);\n",
       "}\n",
       "\n",
       ".sk-estimator-doc-link.fitted,\n",
       "a:link.sk-estimator-doc-link.fitted,\n",
       "a:visited.sk-estimator-doc-link.fitted {\n",
       "  /* fitted */\n",
       "  border: var(--sklearn-color-fitted-level-1) 1pt solid;\n",
       "  color: var(--sklearn-color-fitted-level-1);\n",
       "}\n",
       "\n",
       "/* On hover */\n",
       "div.sk-estimator:hover .sk-estimator-doc-link:hover,\n",
       ".sk-estimator-doc-link:hover,\n",
       "div.sk-label-container:hover .sk-estimator-doc-link:hover,\n",
       ".sk-estimator-doc-link:hover {\n",
       "  /* unfitted */\n",
       "  background-color: var(--sklearn-color-unfitted-level-3);\n",
       "  color: var(--sklearn-color-background);\n",
       "  text-decoration: none;\n",
       "}\n",
       "\n",
       "div.sk-estimator.fitted:hover .sk-estimator-doc-link.fitted:hover,\n",
       ".sk-estimator-doc-link.fitted:hover,\n",
       "div.sk-label-container:hover .sk-estimator-doc-link.fitted:hover,\n",
       ".sk-estimator-doc-link.fitted:hover {\n",
       "  /* fitted */\n",
       "  background-color: var(--sklearn-color-fitted-level-3);\n",
       "  color: var(--sklearn-color-background);\n",
       "  text-decoration: none;\n",
       "}\n",
       "\n",
       "/* Span, style for the box shown on hovering the info icon */\n",
       ".sk-estimator-doc-link span {\n",
       "  display: none;\n",
       "  z-index: 9999;\n",
       "  position: relative;\n",
       "  font-weight: normal;\n",
       "  right: .2ex;\n",
       "  padding: .5ex;\n",
       "  margin: .5ex;\n",
       "  width: min-content;\n",
       "  min-width: 20ex;\n",
       "  max-width: 50ex;\n",
       "  color: var(--sklearn-color-text);\n",
       "  box-shadow: 2pt 2pt 4pt #999;\n",
       "  /* unfitted */\n",
       "  background: var(--sklearn-color-unfitted-level-0);\n",
       "  border: .5pt solid var(--sklearn-color-unfitted-level-3);\n",
       "}\n",
       "\n",
       ".sk-estimator-doc-link.fitted span {\n",
       "  /* fitted */\n",
       "  background: var(--sklearn-color-fitted-level-0);\n",
       "  border: var(--sklearn-color-fitted-level-3);\n",
       "}\n",
       "\n",
       ".sk-estimator-doc-link:hover span {\n",
       "  display: block;\n",
       "}\n",
       "\n",
       "/* \"?\"-specific style due to the `<a>` HTML tag */\n",
       "\n",
       "#sk-container-id-2 a.estimator_doc_link {\n",
       "  float: right;\n",
       "  font-size: 1rem;\n",
       "  line-height: 1em;\n",
       "  font-family: monospace;\n",
       "  background-color: var(--sklearn-color-background);\n",
       "  border-radius: 1rem;\n",
       "  height: 1rem;\n",
       "  width: 1rem;\n",
       "  text-decoration: none;\n",
       "  /* unfitted */\n",
       "  color: var(--sklearn-color-unfitted-level-1);\n",
       "  border: var(--sklearn-color-unfitted-level-1) 1pt solid;\n",
       "}\n",
       "\n",
       "#sk-container-id-2 a.estimator_doc_link.fitted {\n",
       "  /* fitted */\n",
       "  border: var(--sklearn-color-fitted-level-1) 1pt solid;\n",
       "  color: var(--sklearn-color-fitted-level-1);\n",
       "}\n",
       "\n",
       "/* On hover */\n",
       "#sk-container-id-2 a.estimator_doc_link:hover {\n",
       "  /* unfitted */\n",
       "  background-color: var(--sklearn-color-unfitted-level-3);\n",
       "  color: var(--sklearn-color-background);\n",
       "  text-decoration: none;\n",
       "}\n",
       "\n",
       "#sk-container-id-2 a.estimator_doc_link.fitted:hover {\n",
       "  /* fitted */\n",
       "  background-color: var(--sklearn-color-fitted-level-3);\n",
       "}\n",
       "</style><div id=\"sk-container-id-2\" class=\"sk-top-container\"><div class=\"sk-text-repr-fallback\"><pre>LogisticRegression()</pre><b>In a Jupyter environment, please rerun this cell to show the HTML representation or trust the notebook. <br />On GitHub, the HTML representation is unable to render, please try loading this page with nbviewer.org.</b></div><div class=\"sk-container\" hidden><div class=\"sk-item\"><div class=\"sk-estimator fitted sk-toggleable\"><input class=\"sk-toggleable__control sk-hidden--visually\" id=\"sk-estimator-id-2\" type=\"checkbox\" checked><label for=\"sk-estimator-id-2\" class=\"sk-toggleable__label fitted sk-toggleable__label-arrow fitted\">&nbsp;&nbsp;LogisticRegression<a class=\"sk-estimator-doc-link fitted\" rel=\"noreferrer\" target=\"_blank\" href=\"https://scikit-learn.org/1.4/modules/generated/sklearn.linear_model.LogisticRegression.html\">?<span>Documentation for LogisticRegression</span></a><span class=\"sk-estimator-doc-link fitted\">i<span>Fitted</span></span></label><div class=\"sk-toggleable__content fitted\"><pre>LogisticRegression()</pre></div> </div></div></div></div>"
      ],
      "text/plain": [
       "LogisticRegression()"
      ]
     },
     "execution_count": 138,
     "metadata": {},
     "output_type": "execute_result"
    }
   ],
   "source": [
    "lr.fit(X_train, y_train)"
   ]
  },
  {
   "cell_type": "code",
   "execution_count": 140,
   "id": "229d358f-c8b9-4e5b-bd75-d0505eafbe6b",
   "metadata": {},
   "outputs": [
    {
     "data": {
      "text/plain": [
       "0.8796844181459567"
      ]
     },
     "execution_count": 140,
     "metadata": {},
     "output_type": "execute_result"
    }
   ],
   "source": [
    "lr.score(X_train, y_train)"
   ]
  },
  {
   "cell_type": "code",
   "execution_count": 81,
   "id": "d48c6c42-ebd2-4424-b554-efd923d6a12b",
   "metadata": {},
   "outputs": [
    {
     "data": {
      "text/plain": [
       "0.8899082568807339"
      ]
     },
     "execution_count": 81,
     "metadata": {},
     "output_type": "execute_result"
    }
   ],
   "source": [
    "lr.score(X_test, y_test)"
   ]
  },
  {
   "cell_type": "code",
   "execution_count": 83,
   "id": "0cabcc05-bdfd-43f1-a21f-2644b53411ea",
   "metadata": {},
   "outputs": [],
   "source": [
    "y_pred = lr.predict(X_test)"
   ]
  },
  {
   "cell_type": "markdown",
   "id": "40e1f071-e876-4b05-b362-73930b543f88",
   "metadata": {},
   "source": [
    "# Evaluate the model"
   ]
  },
  {
   "cell_type": "code",
   "execution_count": 86,
   "id": "19b389e5-a64d-461b-9937-a80d67156c31",
   "metadata": {},
   "outputs": [
    {
     "name": "stdout",
     "output_type": "stream",
     "text": [
      "confusion_matrix \n",
      "[[98 12]\n",
      " [12 96]]\n",
      "-------------------------------------------\n",
      "accuracy_score \n",
      "0.8899082568807339\n",
      "-------------------------------------------\n",
      "precision_score \n",
      "0.8888888888888888\n",
      "-------------------------------------------\n",
      "recall_score \n",
      "0.8888888888888888\n",
      "-------------------------------------------\n",
      "f1_score \n",
      "0.8888888888888888\n",
      "-------------------------------------------\n"
     ]
    }
   ],
   "source": [
    "from sklearn.metrics import confusion_matrix, accuracy_score, precision_score, recall_score,f1_score\n",
    "print(f\"confusion_matrix \\n{confusion_matrix(y_pred, y_test)}\")\n",
    "print(\"-------------------------------------------\")\n",
    "print(f\"accuracy_score \\n{accuracy_score(y_pred, y_test)}\")\n",
    "print(\"-------------------------------------------\")\n",
    "print(f\"precision_score \\n{precision_score(y_pred, y_test)}\")\n",
    "print(\"-------------------------------------------\")\n",
    "print(f\"recall_score \\n{recall_score(y_pred, y_test)}\")\n",
    "print(\"-------------------------------------------\")\n",
    "print(f\"f1_score \\n{f1_score(y_pred, y_test)}\")\n",
    "print(\"-------------------------------------------\")"
   ]
  },
  {
   "cell_type": "code",
   "execution_count": 88,
   "id": "69471eef-2936-430b-a3b6-895b69b7e306",
   "metadata": {},
   "outputs": [],
   "source": [
    "from sklearn.metrics import ConfusionMatrixDisplay"
   ]
  },
  {
   "cell_type": "code",
   "execution_count": 90,
   "id": "d6eb907e-946f-4029-b4cd-13c4b51332d2",
   "metadata": {},
   "outputs": [
    {
     "data": {
      "image/png": "[encoded data removed]",
      "text/plain": [
       "<Figure size 640x480 with 2 Axes>"
      ]
     },
     "metadata": {},
     "output_type": "display_data"
    }
   ],
   "source": [
    "cm = confusion_matrix(y_pred, y_test)\n",
    "disp = ConfusionMatrixDisplay(confusion_matrix = cm, display_labels = lr.classes_ )\n",
    "disp.plot()\n",
    "plt.show()"
   ]
  },
  {
   "cell_type": "code",
   "execution_count": 112,
   "id": "930d22d9-9fb7-4539-a3bc-368fc0efd40e",
   "metadata": {},
   "outputs": [
    {
     "name": "stdout",
     "output_type": "stream",
     "text": [
      "prediction with threshold 0.5\n",
      "[[0.7100145  0.2899855 ]\n",
      " [0.73873786 0.26126214]\n",
      " [0.35530228 0.64469772]\n",
      " [0.89567873 0.10432127]\n",
      " [0.16509448 0.83490552]\n",
      " [0.77648239 0.22351761]\n",
      " [0.96012393 0.03987607]\n",
      " [0.98167873 0.01832127]\n",
      " [0.94374796 0.05625204]\n",
      " [0.94879331 0.05120669]\n",
      " [0.91302836 0.08697164]\n",
      " [0.08692217 0.91307783]\n",
      " [0.38815355 0.61184645]\n",
      " [0.06247397 0.93752603]\n",
      " [0.94240333 0.05759667]\n",
      " [0.93036199 0.06963801]\n",
      " [0.79967406 0.20032594]\n",
      " [0.23552814 0.76447186]\n",
      " [0.90333748 0.09666252]\n",
      " [0.05805953 0.94194047]\n",
      " [0.26836033 0.73163967]\n",
      " [0.76816194 0.23183806]\n",
      " [0.95264547 0.04735453]\n",
      " [0.84546387 0.15453613]\n",
      " [0.97559511 0.02440489]\n",
      " [0.26316211 0.73683789]\n",
      " [0.97677737 0.02322263]\n",
      " [0.94112765 0.05887235]\n",
      " [0.97037264 0.02962736]\n",
      " [0.94146528 0.05853472]\n",
      " [0.4299644  0.5700356 ]\n",
      " [0.1298255  0.8701745 ]\n",
      " [0.03341718 0.96658282]\n",
      " [0.53767906 0.46232094]\n",
      " [0.20590518 0.79409482]\n",
      " [0.04226888 0.95773112]\n",
      " [0.75496329 0.24503671]\n",
      " [0.0361868  0.9638132 ]\n",
      " [0.78855074 0.21144926]\n",
      " [0.9259159  0.0740841 ]\n",
      " [0.96549104 0.03450896]\n",
      " [0.17155259 0.82844741]\n",
      " [0.9903149  0.0096851 ]\n",
      " [0.06994168 0.93005832]\n",
      " [0.75706154 0.24293846]\n",
      " [0.0182742  0.9817258 ]\n",
      " [0.51268886 0.48731114]\n",
      " [0.03029261 0.96970739]\n",
      " [0.08243412 0.91756588]\n",
      " [0.91370819 0.08629181]\n",
      " [0.07978618 0.92021382]\n",
      " [0.03039543 0.96960457]\n",
      " [0.06429702 0.93570298]\n",
      " [0.99119143 0.00880857]\n",
      " [0.19206376 0.80793624]\n",
      " [0.06120154 0.93879846]\n",
      " [0.89490178 0.10509822]\n",
      " [0.22760281 0.77239719]\n",
      " [0.96616246 0.03383754]\n",
      " [0.49527265 0.50472735]\n",
      " [0.05946905 0.94053095]\n",
      " [0.96585244 0.03414756]\n",
      " [0.56590054 0.43409946]\n",
      " [0.07204689 0.92795311]\n",
      " [0.16490616 0.83509384]\n",
      " [0.68563423 0.31436577]\n",
      " [0.92590701 0.07409299]\n",
      " [0.95763424 0.04236576]\n",
      " [0.04311832 0.95688168]\n",
      " [0.8359217  0.1640783 ]\n",
      " [0.70641246 0.29358754]\n",
      " [0.03570748 0.96429252]\n",
      " [0.98194969 0.01805031]\n",
      " [0.02038455 0.97961545]\n",
      " [0.14889888 0.85110112]\n",
      " [0.09769583 0.90230417]\n",
      " [0.29762772 0.70237228]\n",
      " [0.66715565 0.33284435]\n",
      " [0.19424917 0.80575083]\n",
      " [0.25634423 0.74365577]\n",
      " [0.97779063 0.02220937]\n",
      " [0.02458058 0.97541942]\n",
      " [0.01129128 0.98870872]\n",
      " [0.85055827 0.14944173]\n",
      " [0.99176746 0.00823254]\n",
      " [0.70510074 0.29489926]\n",
      " [0.98055332 0.01944668]\n",
      " [0.02416707 0.97583293]\n",
      " [0.72752951 0.27247049]\n",
      " [0.76115975 0.23884025]\n",
      " [0.03307143 0.96692857]\n",
      " [0.99362755 0.00637245]\n",
      " [0.26733519 0.73266481]\n",
      " [0.88582001 0.11417999]\n",
      " [0.50163943 0.49836057]\n",
      " [0.24251049 0.75748951]\n",
      " [0.99051873 0.00948127]\n",
      " [0.32373589 0.67626411]\n",
      " [0.26951565 0.73048435]\n",
      " [0.81653426 0.18346574]\n",
      " [0.96557065 0.03442935]\n",
      " [0.93779461 0.06220539]\n",
      " [0.14312902 0.85687098]\n",
      " [0.21859898 0.78140102]\n",
      " [0.05019295 0.94980705]\n",
      " [0.76237226 0.23762774]\n",
      " [0.0579055  0.9420945 ]\n",
      " [0.32141105 0.67858895]\n",
      " [0.96312245 0.03687755]\n",
      " [0.02490344 0.97509656]\n",
      " [0.87992982 0.12007018]\n",
      " [0.1279926  0.8720074 ]\n",
      " [0.3431482  0.6568518 ]\n",
      " [0.9598795  0.0401205 ]\n",
      " [0.95522999 0.04477001]\n",
      " [0.13349705 0.86650295]\n",
      " [0.18721326 0.81278674]\n",
      " [0.2407492  0.7592508 ]\n",
      " [0.97626416 0.02373584]\n",
      " [0.1878892  0.8121108 ]\n",
      " [0.20260844 0.79739156]\n",
      " [0.97689532 0.02310468]\n",
      " [0.89922228 0.10077772]\n",
      " [0.23878008 0.76121992]\n",
      " [0.95006172 0.04993828]\n",
      " [0.0213401  0.9786599 ]\n",
      " [0.36723978 0.63276022]\n",
      " [0.47943714 0.52056286]\n",
      " [0.07800442 0.92199558]\n",
      " [0.67692168 0.32307832]\n",
      " [0.0695629  0.9304371 ]\n",
      " [0.08749558 0.91250442]\n",
      " [0.64331283 0.35668717]\n",
      " [0.14243595 0.85756405]\n",
      " [0.0636471  0.9363529 ]\n",
      " [0.07927768 0.92072232]\n",
      " [0.04616361 0.95383639]\n",
      " [0.03835218 0.96164782]\n",
      " [0.95726533 0.04273467]\n",
      " [0.81696312 0.18303688]\n",
      " [0.98795385 0.01204615]\n",
      " [0.29394609 0.70605391]\n",
      " [0.34080921 0.65919079]\n",
      " [0.07240107 0.92759893]\n",
      " [0.036552   0.963448  ]\n",
      " [0.75158906 0.24841094]\n",
      " [0.97425166 0.02574834]\n",
      " [0.99476435 0.00523565]\n",
      " [0.9760999  0.0239001 ]\n",
      " [0.0791901  0.9208099 ]\n",
      " [0.07052816 0.92947184]\n",
      " [0.08399019 0.91600981]\n",
      " [0.92266418 0.07733582]\n",
      " [0.19594035 0.80405965]\n",
      " [0.75502733 0.24497267]\n",
      " [0.91014876 0.08985124]\n",
      " [0.99132339 0.00867661]\n",
      " [0.96190047 0.03809953]\n",
      " [0.37804784 0.62195216]\n",
      " [0.98700197 0.01299803]\n",
      " [0.80287176 0.19712824]\n",
      " [0.129547   0.870453  ]\n",
      " [0.16754661 0.83245339]\n",
      " [0.0241547  0.9758453 ]\n",
      " [0.92843847 0.07156153]\n",
      " [0.9384546  0.0615454 ]\n",
      " [0.92485093 0.07514907]\n",
      " [0.06512043 0.93487957]\n",
      " [0.27933625 0.72066375]\n",
      " [0.89062494 0.10937506]\n",
      " [0.49576151 0.50423849]\n",
      " [0.9778073  0.0221927 ]\n",
      " [0.08311058 0.91688942]\n",
      " [0.81955778 0.18044222]\n",
      " [0.02165696 0.97834304]\n",
      " [0.96498214 0.03501786]\n",
      " [0.22697326 0.77302674]\n",
      " [0.96536157 0.03463843]\n",
      " [0.09092363 0.90907637]\n",
      " [0.17996423 0.82003577]\n",
      " [0.02708781 0.97291219]\n",
      " [0.94248108 0.05751892]\n",
      " [0.87290813 0.12709187]\n",
      " [0.9290122  0.0709878 ]\n",
      " [0.04938893 0.95061107]\n",
      " [0.45811285 0.54188715]\n",
      " [0.02921739 0.97078261]\n",
      " [0.91548554 0.08451446]\n",
      " [0.0993741  0.9006259 ]\n",
      " [0.92269358 0.07730642]\n",
      " [0.09913956 0.90086044]\n",
      " [0.94565004 0.05434996]\n",
      " [0.30611914 0.69388086]\n",
      " [0.75618067 0.24381933]\n",
      " [0.29331314 0.70668686]\n",
      " [0.04480318 0.95519682]\n",
      " [0.17057907 0.82942093]\n",
      " [0.55181222 0.44818778]\n",
      " [0.97550608 0.02449392]\n",
      " [0.07275321 0.92724679]\n",
      " [0.73860143 0.26139857]\n",
      " [0.93264824 0.06735176]\n",
      " [0.08318396 0.91681604]\n",
      " [0.06708308 0.93291692]\n",
      " [0.84475764 0.15524236]\n",
      " [0.95087857 0.04912143]\n",
      " [0.86995261 0.13004739]\n",
      " [0.05253512 0.94746488]\n",
      " [0.89503215 0.10496785]\n",
      " [0.23012171 0.76987829]\n",
      " [0.45523479 0.54476521]\n",
      " [0.93542128 0.06457872]\n",
      " [0.97893697 0.02106303]\n",
      " [0.1892408  0.8107592 ]\n",
      " [0.89071008 0.10928992]\n",
      " [0.96531707 0.03468293]\n",
      " [0.96390975 0.03609025]\n",
      " [0.61931696 0.38068304]]\n"
     ]
    }
   ],
   "source": [
    "print(\"prediction with threshold 0.6\")\n",
    "y_pred = lr.predict_proba(X_test)\n",
    "print(y_pred)\n",
    "y_pred_new_threshold =( lr.predict_proba(X_test)[:,1] >= 0.6).astype(int)"
   ]
  },
  {
   "cell_type": "code",
   "execution_count": 114,
   "id": "8f92f658-0397-4a42-98ef-aac90e3f36d9",
   "metadata": {},
   "outputs": [
    {
     "data": {
      "image/png": "[encoded data removed]",
      "text/plain": [
       "<Figure size 640x480 with 2 Axes>"
      ]
     },
     "metadata": {},
     "output_type": "display_data"
    }
   ],
   "source": [
    "cm = confusion_matrix(y_pred_new_threshold, y_test)\n",
    "disp = ConfusionMatrixDisplay(confusion_matrix = cm, display_labels = lr.classes_ )\n",
    "disp.plot()\n",
    "plt.show()"
   ]
  },
  {
   "cell_type": "code",
   "execution_count": 132,
   "id": "1a23d5e5-7116-4956-8f7e-597bfb4430da",
   "metadata": {},
   "outputs": [
    {
     "name": "stdout",
     "output_type": "stream",
     "text": [
      "confusion_matrix \n",
      "[[101  15]\n",
      " [  9  93]]\n",
      "-------------------------------------------\n",
      "accuracy_score \n",
      "0.8899082568807339\n",
      "-------------------------------------------\n",
      "precision_score \n",
      "0.8611111111111112\n",
      "-------------------------------------------\n",
      "recall_score \n",
      "0.9117647058823529\n",
      "-------------------------------------------\n",
      "f1_score \n",
      "0.8857142857142857\n",
      "-------------------------------------------\n"
     ]
    }
   ],
   "source": [
    "print(f\"confusion_matrix \\n{confusion_matrix(y_pred_new_threshold, y_test)}\")\n",
    "print(\"-------------------------------------------\")\n",
    "print(f\"accuracy_score \\n{accuracy_score(y_pred_new_threshold, y_test)}\")\n",
    "print(\"-------------------------------------------\")\n",
    "print(f\"precision_score \\n{precision_score(y_pred_new_threshold, y_test)}\")\n",
    "print(\"-------------------------------------------\")\n",
    "print(f\"recall_score \\n{recall_score(y_pred_new_threshold, y_test)}\")\n",
    "print(\"-------------------------------------------\")\n",
    "print(f\"f1_score \\n{f1_score(y_pred_new_threshold, y_test)}\")\n",
    "print(\"-------------------------------------------\")"
   ]
  },
  {
   "cell_type": "markdown",
   "id": "5fdf609d-673a-4afb-a4ad-2bd209853a0a",
   "metadata": {},
   "source": [
    "# try to see the accuracy in the train data"
   ]
  },
  {
   "cell_type": "code",
   "execution_count": 129,
   "id": "d4c4d364-7332-43c1-aaaa-3fdc324fd51d",
   "metadata": {},
   "outputs": [
    {
     "name": "stdout",
     "output_type": "stream",
     "text": [
      "confusion_matrix \n",
      "[[63 63]\n",
      " [68 60]]\n",
      "-------------------------------------------\n",
      "accuracy_score \n",
      "0.484251968503937\n",
      "-------------------------------------------\n",
      "precision_score \n",
      "0.4878048780487805\n",
      "-------------------------------------------\n",
      "recall_score \n",
      "0.46875\n",
      "-------------------------------------------\n",
      "f1_score \n",
      "0.47808764940239046\n",
      "-------------------------------------------\n"
     ]
    }
   ],
   "source": [
    "print(f\"confusion_matrix \\n{confusion_matrix(y_train[0:254], y_train[253:])}\")\n",
    "print(\"-------------------------------------------\")\n",
    "print(f\"accuracy_score \\n{accuracy_score(y_train[0:254], y_train[253:])}\")\n",
    "print(\"-------------------------------------------\")\n",
    "print(f\"precision_score \\n{precision_score(y_train[0:254], y_train[253:])}\")\n",
    "print(\"-------------------------------------------\")\n",
    "print(f\"recall_score \\n{recall_score(y_train[0:254], y_train[253:])}\")\n",
    "print(\"-------------------------------------------\")\n",
    "print(f\"f1_score \\n{f1_score(y_train[0:254], y_train[253:])}\")\n",
    "print(\"-------------------------------------------\")"
   ]
  },
  {
   "cell_type": "code",
   "execution_count": 125,
   "id": "497d3d8e-e864-4e59-b6b5-94ff9d1fb8d7",
   "metadata": {},
   "outputs": [
    {
     "data": {
      "text/plain": [
       "(507,)"
      ]
     },
     "execution_count": 125,
     "metadata": {},
     "output_type": "execute_result"
    }
   ],
   "source": [
    "y_train.shape"
   ]
  },
  {
   "cell_type": "code",
   "execution_count": null,
   "id": "fbe2797e-b6cc-4fca-a663-a52b91f61764",
   "metadata": {},
   "outputs": [],
   "source": []
  }
 ],
 "metadata": {
  "kernelspec": {
   "display_name": "Python 3 (ipykernel)",
   "language": "python",
   "name": "python3"
  },
  "language_info": {
   "codemirror_mode": {
    "name": "ipython",
    "version": 3
   },
   "file_extension": ".py",
   "mimetype": "text/x-python",
   "name": "python",
   "nbconvert_exporter": "python",
   "pygments_lexer": "ipython3",
   "version": "3.12.4"
  }
 },
 "nbformat": 4,
 "nbformat_minor": 5
}
